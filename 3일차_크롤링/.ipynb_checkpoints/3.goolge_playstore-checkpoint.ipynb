{
 "cells": [
  {
   "cell_type": "markdown",
   "id": "0cfcf9b3",
   "metadata": {},
   "source": [
    "## 구글 플레이스토어 댓글 수집기\n",
    "- 검색한 앱의 댓글 수집(최소 스크롤 3번을 내림)"
   ]
  },
  {
   "cell_type": "code",
   "execution_count": 2,
   "id": "8cacceab",
   "metadata": {},
   "outputs": [],
   "source": [
    "from selenium import webdriver\n",
    "from selenium.webdriver.common.by import By\n",
    "import time"
   ]
  },
  {
   "cell_type": "code",
   "execution_count": 4,
   "id": "836c6f6c",
   "metadata": {},
   "outputs": [],
   "source": [
    "brwoser = webdriver.Chrome()"
   ]
  },
  {
   "cell_type": "code",
   "execution_count": 7,
   "id": "deb74e3a",
   "metadata": {},
   "outputs": [
    {
     "name": "stdout",
     "output_type": "stream",
     "text": [
      "검색 원하는 어플 이름 입력배달의 민족\n",
      "https://play.google.com/store/search?q=배달의민족&c=apps\n"
     ]
    }
   ],
   "source": [
    "search_word = input(\"검색 원하는 어플 이름 입력\").replace(\" \",\"\")\n",
    "\n",
    "url = 'https://play.google.com/store/search?q={}&c=apps'\n",
    "final_url = url.format(search_word)\n",
    "print(final_url)\n",
    "\n",
    "time.sleep(3)\n",
    "browser.implicitly_wait(5)\n",
    "app_url = browser.find_element(By.CLASS_NAME, )\n",
    "print(app_url)\n",
    "\n",
    "browser.get(app_url)"
   ]
  },
  {
   "cell_type": "code",
   "execution_count": null,
   "id": "a35485f5",
   "metadata": {},
   "outputs": [],
   "source": []
  }
 ],
 "metadata": {
  "kernelspec": {
   "display_name": "Python 3 (ipykernel)",
   "language": "python",
   "name": "python3"
  },
  "language_info": {
   "codemirror_mode": {
    "name": "ipython",
    "version": 3
   },
   "file_extension": ".py",
   "mimetype": "text/x-python",
   "name": "python",
   "nbconvert_exporter": "python",
   "pygments_lexer": "ipython3",
   "version": "3.9.12"
  }
 },
 "nbformat": 4,
 "nbformat_minor": 5
}
