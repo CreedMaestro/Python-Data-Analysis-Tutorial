{
 "cells": [
  {
   "cell_type": "markdown",
   "id": "b29a9e14",
   "metadata": {},
   "source": [
    "## 구글 플레이 스토어 댓글 수집기\n",
    "- 내가 검색한 앱의 댓글을 수집합니다. (최소 스크롤 3번을 내립니다.)"
   ]
  },
  {
   "cell_type": "code",
   "execution_count": 1,
   "id": "fd34b941",
   "metadata": {},
   "outputs": [],
   "source": [
    "from selenium import webdriver\n",
    "from selenium.webdriver.common.by import By\n",
    "import time"
   ]
  },
  {
   "cell_type": "code",
   "execution_count": 2,
   "id": "ba8a3633",
   "metadata": {},
   "outputs": [],
   "source": [
    "#path = \"C:\\Users\\Creed\\Documents\\GitHub\\Python-Data-Analysis-Tutorial\\3일차_크롤링\"\n",
    "\n",
    "browser = webdriver.Chrome() # \"./chromedriver.exe\""
   ]
  },
  {
   "cell_type": "code",
   "execution_count": 3,
   "id": "5197f736",
   "metadata": {
    "scrolled": true
   },
   "outputs": [
    {
     "name": "stdout",
     "output_type": "stream",
     "text": [
      "검색하시고자 하는 앱 이름을 입력하세요.쿠팡\n",
      "https://play.google.com/store/search?q=쿠팡&c=apps\n",
      "https://play.google.com/store/apps/details?id=com.coupang.mobile\n"
     ]
    }
   ],
   "source": [
    "search_word = input(\"검색하시고자 하는 앱 이름을 입력하세요.\")\n",
    "\n",
    "url = \"https://play.google.com/store/search?q={}&c=apps\"\n",
    "\n",
    "final_url = url.format(search_word)\n",
    "print(final_url)\n",
    "browser.get(final_url)\n",
    "\n",
    "time.sleep(3)\n",
    "browser.implicitly_wait(5)\n",
    "app_url = browser.find_element(By.CLASS_NAME, 'Si6A0c').get_attribute('href')\n",
    "print(app_url)\n",
    "\n",
    "browser.get(app_url)"
   ]
  },
  {
   "cell_type": "code",
   "execution_count": 4,
   "id": "db4247b8",
   "metadata": {},
   "outputs": [],
   "source": [
    "# browser.find_element(By.CLASS_NAME, 'VfPpkd-Bz112c-Jh9lGc').click()\n",
    "\n",
    "browser.find_element(By.XPATH, '//*[@id=\"yDmH0d\"]/c-wiz[2]/div/div/div[1]/div[2]/div/div[1]/c-wiz[4]/section/header/div/div[2]/button').click()"
   ]
  },
  {
   "cell_type": "code",
   "execution_count": 5,
   "id": "8486b95f",
   "metadata": {},
   "outputs": [],
   "source": [
    "browser.find_element(By.CLASS_NAME, 'RHo1pe').click()"
   ]
  },
  {
   "cell_type": "code",
   "execution_count": 6,
   "id": "beda660f",
   "metadata": {},
   "outputs": [],
   "source": [
    "# SCROLL_PAUSE_SEC = 1\n",
    "\n",
    "# # 스크롤 높이 가져옴\n",
    "# last_height = browser.execute_script(\"return document.body.scrollHeight\")\n",
    "\n",
    "# while True:\n",
    "#     # 끝까지 스크롤 다운\n",
    "#     browser.execute_script(\"window.scrollTo(0, document.body.scrollHeight);\")\n",
    "\n",
    "#     # 1초 대기\n",
    "#     time.sleep(SCROLL_PAUSE_SEC)\n",
    "\n",
    "#     # 스크롤 다운 후 스크롤 높이 다시 가져옴\n",
    "#     new_height = browser.execute_script(\"return document.body.scrollHeight\")\n",
    "#     if new_height == last_height:\n",
    "#         break\n",
    "#     last_height = new_height"
   ]
  },
  {
   "cell_type": "code",
   "execution_count": 7,
   "id": "f53b05a7",
   "metadata": {},
   "outputs": [],
   "source": [
    "# from selenium.webdriver.common.keys import Keys\n",
    "\n",
    "# for c in range(0,5):\n",
    "#     browser.find_element(By.CLASS_NAME, 't8iiQe').send_keys(Keys.PAGE_DOWN)\n",
    "#     time.sleep(1)\n",
    "# #     browser.find_element(By.CLASS_NAME, 'RHo1pe').sendKeys(Keys.PAGE_DOWN)"
   ]
  },
  {
   "cell_type": "code",
   "execution_count": 8,
   "id": "be251f08",
   "metadata": {},
   "outputs": [],
   "source": [
    "import datetime\n",
    "    \n",
    "def doScrollDown(whileSeconds):\n",
    "    start = datetime.datetime.now()\n",
    "    end = start + datetime.timedelta(seconds=whileSeconds)\n",
    "    \n",
    "    while True:\n",
    "        browser.execute_script('window.scrollTo(0, document.body.scrollHeight);')\n",
    "        time.sleep(1)\n",
    "        if datetime.datetime.now() > end:\n",
    "            break\n",
    "            \n",
    "doScrollDown(2)"
   ]
  },
  {
   "cell_type": "code",
   "execution_count": 9,
   "id": "74569dbd",
   "metadata": {},
   "outputs": [
    {
     "ename": "JavascriptException",
     "evalue": "Message: javascript error: arguments[0].scrollto is not a function\n  (Session info: chrome=106.0.5249.119)\nStacktrace:\nBacktrace:\n\tOrdinal0 [0x005B1ED3+2236115]\n\tOrdinal0 [0x005492F1+1807089]\n\tOrdinal0 [0x004566FD+812797]\n\tOrdinal0 [0x004592B4+823988]\n\tOrdinal0 [0x00459165+823653]\n\tOrdinal0 [0x00459AF5+826101]\n\tOrdinal0 [0x004B6452+1205330]\n\tOrdinal0 [0x004A1A8C+1120908]\n\tOrdinal0 [0x004B59E2+1202658]\n\tOrdinal0 [0x004A18A6+1120422]\n\tOrdinal0 [0x0047A73D+960317]\n\tOrdinal0 [0x0047B71F+964383]\n\tGetHandleVerifier [0x0085E7E2+2743074]\n\tGetHandleVerifier [0x008508D4+2685972]\n\tGetHandleVerifier [0x00642BAA+532202]\n\tGetHandleVerifier [0x00641990+527568]\n\tOrdinal0 [0x0055080C+1837068]\n\tOrdinal0 [0x00554CD8+1854680]\n\tOrdinal0 [0x00554DC5+1854917]\n\tOrdinal0 [0x0055ED64+1895780]\n\tBaseThreadInitThunk [0x76FDFA29+25]\n\tRtlGetAppContainerNamedObjectPath [0x77E37BBE+286]\n\tRtlGetAppContainerNamedObjectPath [0x77E37B8E+238]\n",
     "output_type": "error",
     "traceback": [
      "\u001b[1;31m---------------------------------------------------------------------------\u001b[0m",
      "\u001b[1;31mJavascriptException\u001b[0m                       Traceback (most recent call last)",
      "Input \u001b[1;32mIn [9]\u001b[0m, in \u001b[0;36m<cell line: 6>\u001b[1;34m()\u001b[0m\n\u001b[0;32m      5\u001b[0m \u001b[38;5;28;01mimport\u001b[39;00m \u001b[38;5;21;01mtime\u001b[39;00m\n\u001b[0;32m      6\u001b[0m \u001b[38;5;28;01mfor\u001b[39;00m i \u001b[38;5;129;01min\u001b[39;00m \u001b[38;5;28mrange\u001b[39m(\u001b[38;5;241m3\u001b[39m):   \u001b[38;5;66;03m#스크롤 횟수. \u001b[39;00m\n\u001b[1;32m----> 7\u001b[0m     \u001b[43mbrowser\u001b[49m\u001b[38;5;241;43m.\u001b[39;49m\u001b[43mexecute_script\u001b[49m\u001b[43m(\u001b[49m\u001b[38;5;124;43m\"\u001b[39;49m\u001b[38;5;124;43marguments[0].scrollto(0, arguments[0].scrollHeight);\u001b[39;49m\u001b[38;5;124;43m\"\u001b[39;49m\u001b[43m,\u001b[49m\u001b[43m \u001b[49m\u001b[43mmodal\u001b[49m\u001b[43m)\u001b[49m\n\u001b[0;32m      8\u001b[0m     time\u001b[38;5;241m.\u001b[39msleep(\u001b[38;5;241m2\u001b[39m)\n",
      "File \u001b[1;32m~\\anaconda3\\lib\\site-packages\\selenium\\webdriver\\remote\\webdriver.py:492\u001b[0m, in \u001b[0;36mWebDriver.execute_script\u001b[1;34m(self, script, *args)\u001b[0m\n\u001b[0;32m    489\u001b[0m converted_args \u001b[38;5;241m=\u001b[39m \u001b[38;5;28mlist\u001b[39m(args)\n\u001b[0;32m    490\u001b[0m command \u001b[38;5;241m=\u001b[39m Command\u001b[38;5;241m.\u001b[39mW3C_EXECUTE_SCRIPT\n\u001b[1;32m--> 492\u001b[0m \u001b[38;5;28;01mreturn\u001b[39;00m \u001b[38;5;28;43mself\u001b[39;49m\u001b[38;5;241;43m.\u001b[39;49m\u001b[43mexecute\u001b[49m\u001b[43m(\u001b[49m\u001b[43mcommand\u001b[49m\u001b[43m,\u001b[49m\u001b[43m \u001b[49m\u001b[43m{\u001b[49m\n\u001b[0;32m    493\u001b[0m \u001b[43m    \u001b[49m\u001b[38;5;124;43m'\u001b[39;49m\u001b[38;5;124;43mscript\u001b[39;49m\u001b[38;5;124;43m'\u001b[39;49m\u001b[43m:\u001b[49m\u001b[43m \u001b[49m\u001b[43mscript\u001b[49m\u001b[43m,\u001b[49m\n\u001b[0;32m    494\u001b[0m \u001b[43m    \u001b[49m\u001b[38;5;124;43m'\u001b[39;49m\u001b[38;5;124;43margs\u001b[39;49m\u001b[38;5;124;43m'\u001b[39;49m\u001b[43m:\u001b[49m\u001b[43m \u001b[49m\u001b[43mconverted_args\u001b[49m\u001b[43m}\u001b[49m\u001b[43m)\u001b[49m[\u001b[38;5;124m'\u001b[39m\u001b[38;5;124mvalue\u001b[39m\u001b[38;5;124m'\u001b[39m]\n",
      "File \u001b[1;32m~\\anaconda3\\lib\\site-packages\\selenium\\webdriver\\remote\\webdriver.py:429\u001b[0m, in \u001b[0;36mWebDriver.execute\u001b[1;34m(self, driver_command, params)\u001b[0m\n\u001b[0;32m    427\u001b[0m response \u001b[38;5;241m=\u001b[39m \u001b[38;5;28mself\u001b[39m\u001b[38;5;241m.\u001b[39mcommand_executor\u001b[38;5;241m.\u001b[39mexecute(driver_command, params)\n\u001b[0;32m    428\u001b[0m \u001b[38;5;28;01mif\u001b[39;00m response:\n\u001b[1;32m--> 429\u001b[0m     \u001b[38;5;28;43mself\u001b[39;49m\u001b[38;5;241;43m.\u001b[39;49m\u001b[43merror_handler\u001b[49m\u001b[38;5;241;43m.\u001b[39;49m\u001b[43mcheck_response\u001b[49m\u001b[43m(\u001b[49m\u001b[43mresponse\u001b[49m\u001b[43m)\u001b[49m\n\u001b[0;32m    430\u001b[0m     response[\u001b[38;5;124m'\u001b[39m\u001b[38;5;124mvalue\u001b[39m\u001b[38;5;124m'\u001b[39m] \u001b[38;5;241m=\u001b[39m \u001b[38;5;28mself\u001b[39m\u001b[38;5;241m.\u001b[39m_unwrap_value(\n\u001b[0;32m    431\u001b[0m         response\u001b[38;5;241m.\u001b[39mget(\u001b[38;5;124m'\u001b[39m\u001b[38;5;124mvalue\u001b[39m\u001b[38;5;124m'\u001b[39m, \u001b[38;5;28;01mNone\u001b[39;00m))\n\u001b[0;32m    432\u001b[0m     \u001b[38;5;28;01mreturn\u001b[39;00m response\n",
      "File \u001b[1;32m~\\anaconda3\\lib\\site-packages\\selenium\\webdriver\\remote\\errorhandler.py:243\u001b[0m, in \u001b[0;36mErrorHandler.check_response\u001b[1;34m(self, response)\u001b[0m\n\u001b[0;32m    241\u001b[0m         alert_text \u001b[38;5;241m=\u001b[39m value[\u001b[38;5;124m'\u001b[39m\u001b[38;5;124malert\u001b[39m\u001b[38;5;124m'\u001b[39m]\u001b[38;5;241m.\u001b[39mget(\u001b[38;5;124m'\u001b[39m\u001b[38;5;124mtext\u001b[39m\u001b[38;5;124m'\u001b[39m)\n\u001b[0;32m    242\u001b[0m     \u001b[38;5;28;01mraise\u001b[39;00m exception_class(message, screen, stacktrace, alert_text)  \u001b[38;5;66;03m# type: ignore[call-arg]  # mypy is not smart enough here\u001b[39;00m\n\u001b[1;32m--> 243\u001b[0m \u001b[38;5;28;01mraise\u001b[39;00m exception_class(message, screen, stacktrace)\n",
      "\u001b[1;31mJavascriptException\u001b[0m: Message: javascript error: arguments[0].scrollto is not a function\n  (Session info: chrome=106.0.5249.119)\nStacktrace:\nBacktrace:\n\tOrdinal0 [0x005B1ED3+2236115]\n\tOrdinal0 [0x005492F1+1807089]\n\tOrdinal0 [0x004566FD+812797]\n\tOrdinal0 [0x004592B4+823988]\n\tOrdinal0 [0x00459165+823653]\n\tOrdinal0 [0x00459AF5+826101]\n\tOrdinal0 [0x004B6452+1205330]\n\tOrdinal0 [0x004A1A8C+1120908]\n\tOrdinal0 [0x004B59E2+1202658]\n\tOrdinal0 [0x004A18A6+1120422]\n\tOrdinal0 [0x0047A73D+960317]\n\tOrdinal0 [0x0047B71F+964383]\n\tGetHandleVerifier [0x0085E7E2+2743074]\n\tGetHandleVerifier [0x008508D4+2685972]\n\tGetHandleVerifier [0x00642BAA+532202]\n\tGetHandleVerifier [0x00641990+527568]\n\tOrdinal0 [0x0055080C+1837068]\n\tOrdinal0 [0x00554CD8+1854680]\n\tOrdinal0 [0x00554DC5+1854917]\n\tOrdinal0 [0x0055ED64+1895780]\n\tBaseThreadInitThunk [0x76FDFA29+25]\n\tRtlGetAppContainerNamedObjectPath [0x77E37BBE+286]\n\tRtlGetAppContainerNamedObjectPath [0x77E37B8E+238]\n"
     ]
    }
   ],
   "source": [
    "browser.find_element(By.CLASS_NAME, 'fysCi').click()  #모달창 클릭\n",
    "\n",
    "modal = browser.find_element(By.CLASS_NAME, 'fysCi')\n",
    "\n",
    "import time\n",
    "for i in range(3):   #스크롤 횟수. \n",
    "    browser.execute_script(\"arguments[0].scrollto(0, arguments[0].scrollHeight);\", modal)\n",
    "    time.sleep(2)"
   ]
  },
  {
   "cell_type": "code",
   "execution_count": null,
   "id": "8be725e8",
   "metadata": {},
   "outputs": [],
   "source": []
  }
 ],
 "metadata": {
  "kernelspec": {
   "display_name": "Python 3 (ipykernel)",
   "language": "python",
   "name": "python3"
  },
  "language_info": {
   "codemirror_mode": {
    "name": "ipython",
    "version": 3
   },
   "file_extension": ".py",
   "mimetype": "text/x-python",
   "name": "python",
   "nbconvert_exporter": "python",
   "pygments_lexer": "ipython3",
   "version": "3.9.12"
  }
 },
 "nbformat": 4,
 "nbformat_minor": 5
}
