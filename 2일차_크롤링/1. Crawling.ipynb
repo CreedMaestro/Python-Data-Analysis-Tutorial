{
 "cells": [
  {
   "cell_type": "code",
   "execution_count": 1,
   "id": "268f9075",
   "metadata": {},
   "outputs": [
    {
     "ename": "SyntaxError",
     "evalue": "invalid syntax (3908997556.py, line 1)",
     "output_type": "error",
     "traceback": [
      "\u001b[1;36m  Input \u001b[1;32mIn [1]\u001b[1;36m\u001b[0m\n\u001b[1;33m    크롤링 기초\u001b[0m\n\u001b[1;37m        ^\u001b[0m\n\u001b[1;31mSyntaxError\u001b[0m\u001b[1;31m:\u001b[0m invalid syntax\n"
     ]
    }
   ],
   "source": [
    "크롤링 기초\n",
    "네이버 날씨 정보 가져오기"
   ]
  },
  {
   "cell_type": "markdown",
   "id": "4e0dd6d4",
   "metadata": {},
   "source": [
    "pip install selenium"
   ]
  },
  {
   "cell_type": "code",
   "execution_count": 3,
   "id": "6dc2fbed",
   "metadata": {},
   "outputs": [],
   "source": [
    "from selenium import webdriver"
   ]
  },
  {
   "cell_type": "code",
   "execution_count": 4,
   "id": "a76fa933",
   "metadata": {},
   "outputs": [],
   "source": [
    "browser = webdriver.Chrome()"
   ]
  },
  {
   "cell_type": "code",
   "execution_count": 5,
   "id": "fb444f6c",
   "metadata": {},
   "outputs": [],
   "source": [
    "browser.get(\"http://naver.com\")"
   ]
  },
  {
   "cell_type": "code",
   "execution_count": null,
   "id": "f78f1d37",
   "metadata": {},
   "outputs": [],
   "source": [
    "# browser.get(\"https://search.naver.com/search.naver?where=nexearch&sm=top_hty&fbm=1&ie=utf8&query=%EB%82%A0%EC%94%A8\")"
   ]
  },
  {
   "cell_type": "code",
   "execution_count": 6,
   "id": "6116e89e",
   "metadata": {},
   "outputs": [],
   "source": [
    "from selenium.webdriver.common.by import By"
   ]
  },
  {
   "cell_type": "code",
   "execution_count": 7,
   "id": "2eb0eb93",
   "metadata": {},
   "outputs": [],
   "source": [
    "browser.find_element(By.ID, 'query').click()"
   ]
  },
  {
   "cell_type": "code",
   "execution_count": 8,
   "id": "1851d3a6",
   "metadata": {},
   "outputs": [],
   "source": [
    "browser.find_element(By.ID, 'query').send_keys(\"날씨\")"
   ]
  },
  {
   "cell_type": "code",
   "execution_count": 9,
   "id": "eced7e51",
   "metadata": {},
   "outputs": [],
   "source": [
    "browser.find_element(By.XPATH, '//*[@id=\"search_btn\"]').click()"
   ]
  },
  {
   "cell_type": "code",
   "execution_count": 10,
   "id": "335d53ae",
   "metadata": {},
   "outputs": [
    {
     "data": {
      "text/plain": [
       "'16.9°'"
      ]
     },
     "execution_count": 10,
     "metadata": {},
     "output_type": "execute_result"
    }
   ],
   "source": [
    "data = browser.find_element(By.XPATH, '//*[@id=\"main_pack\"]/section[1]/div[1]/div[2]/div[1]/div[1]/div/div[2]/div/div[1]/div[1]/div[2]/strong').text\n",
    "data[6:]"
   ]
  },
  {
   "cell_type": "code",
   "execution_count": 11,
   "id": "525eb60f",
   "metadata": {},
   "outputs": [
    {
     "data": {
      "text/plain": [
       "'°'"
      ]
     },
     "execution_count": 11,
     "metadata": {},
     "output_type": "execute_result"
    }
   ],
   "source": [
    "browser.find_element(By.XPATH, '//*[@id=\"main_pack\"]/section[1]/div[1]/div[2]/div[1]/div[1]/div/div[2]/div/div[1]/div[1]/div[2]/strong').find_element(By.CLASS_NAME, 'celsius').text"
   ]
  },
  {
   "cell_type": "code",
   "execution_count": 12,
   "id": "ddf617b7",
   "metadata": {},
   "outputs": [],
   "source": [
    "browser.find_element(By.ID, 'nx_query').click()"
   ]
  },
  {
   "cell_type": "code",
   "execution_count": 13,
   "id": "2f6c7165",
   "metadata": {},
   "outputs": [],
   "source": [
    "browser.find_element(By.ID, 'nx_query').clear()"
   ]
  },
  {
   "cell_type": "code",
   "execution_count": 14,
   "id": "508016fd",
   "metadata": {},
   "outputs": [],
   "source": [
    "browser.find_element(By.ID, 'nx_query').send_keys(\"환율\")"
   ]
  },
  {
   "cell_type": "code",
   "execution_count": 15,
   "id": "526c3537",
   "metadata": {},
   "outputs": [],
   "source": [
    "browser.find_element(By.CLASS_NAME, 'bt_search').click()"
   ]
  },
  {
   "cell_type": "code",
   "execution_count": 16,
   "id": "e20c5471",
   "metadata": {},
   "outputs": [
    {
     "data": {
      "text/plain": [
       "'1,425.50'"
      ]
     },
     "execution_count": 16,
     "metadata": {},
     "output_type": "execute_result"
    }
   ],
   "source": [
    "browser.find_element(By.XPATH, '//*[@id=\"_cs_foreigninfo\"]/div/div[2]/div/div[1]/div[1]/div[1]/div[1]/h3/a/span[2]/strong').text"
   ]
  },
  {
   "cell_type": "markdown",
   "id": "fc6b0934",
   "metadata": {},
   "source": [
    "단건 뉴스 크롤링"
   ]
  },
  {
   "cell_type": "code",
   "execution_count": 17,
   "id": "624f3495",
   "metadata": {},
   "outputs": [],
   "source": [
    "browser.get('https://www.google.com/search?q=%EC%9E%90%EB%8F%99%ED%99%94&source=lnms&tbm=nws&sa=X&ved=2ahUKEwjJ0snc4Pr6AhW6ilYBHV5JD40Q_AUoAnoECAIQBA&biw=760&bih=318&dpr=1.25')"
   ]
  },
  {
   "cell_type": "code",
   "execution_count": 18,
   "id": "0215e486",
   "metadata": {},
   "outputs": [
    {
     "data": {
      "text/plain": [
       "\"시스코 '하이브리드 클라우드 관리, AI 분석 정확도와 자동화 필수'\""
      ]
     },
     "execution_count": 18,
     "metadata": {},
     "output_type": "execute_result"
    }
   ],
   "source": [
    "browser.find_element(By.CLASS_NAME, 'mCBkyc').text"
   ]
  },
  {
   "cell_type": "code",
   "execution_count": 19,
   "id": "fdc41672",
   "metadata": {},
   "outputs": [
    {
     "data": {
      "text/plain": [
       "\"클라우드 운영관리 최적화 전략' 온라인 컨퍼런스에서 기조연설. AI 기반 분석과 선제적 장애 대응, 자동화 없이는 관리 난항.\""
      ]
     },
     "execution_count": 19,
     "metadata": {},
     "output_type": "execute_result"
    }
   ],
   "source": [
    "browser.find_element(By.CLASS_NAME, 'GI74Re').text"
   ]
  },
  {
   "cell_type": "code",
   "execution_count": 20,
   "id": "1c3216c3",
   "metadata": {},
   "outputs": [
    {
     "data": {
      "text/plain": [
       "<selenium.webdriver.remote.webelement.WebElement (session=\"db802cac303b6b664ca5638ef1723097\", element=\"1d656942-1639-4cc8-b630-c157cf8135fb\")>"
      ]
     },
     "execution_count": 20,
     "metadata": {},
     "output_type": "execute_result"
    }
   ],
   "source": [
    "browser.find_element(By.CLASS_NAME, 'mCBkyc')"
   ]
  },
  {
   "cell_type": "code",
   "execution_count": 21,
   "id": "806d413e",
   "metadata": {},
   "outputs": [
    {
     "data": {
      "text/plain": [
       "'https://www.etnews.com/20221026000221'"
      ]
     },
     "execution_count": 21,
     "metadata": {},
     "output_type": "execute_result"
    }
   ],
   "source": [
    "browser.find_element(By.CLASS_NAME, 'WlydOe').get_attribute('href')"
   ]
  },
  {
   "cell_type": "markdown",
   "id": "88dd54cd",
   "metadata": {},
   "source": [
    "1페이지 뉴스 크롤링"
   ]
  },
  {
   "cell_type": "code",
   "execution_count": 22,
   "id": "c3ad5865",
   "metadata": {},
   "outputs": [
    {
     "data": {
      "text/plain": [
       "[\"시스코 '하이브리드 클라우드 관리 AI 분석 정확도와 자동화 필수'\",\n",
       " '창원시 창원국제용접 및 절단자동화전 성료',\n",
       " '[올쇼TV] \"FortiSOAR를 활용한 자동화 위협 대응 사례\" 11월 2일 웨비나 생방송',\n",
       " '[비즈&] 롯데홈쇼핑 물류센터에 업계 최초 자동화 시스템 도입 外',\n",
       " '제이엔피글로벌 도로 시공 무인자동화 기업 충청에 시드투자',\n",
       " '한화생명 청약자동화 솔루션 특허 취득 -',\n",
       " '한화생명 보험 계약 자동화 솔루션 특허 취득',\n",
       " \"[보험 현미경] 한화생명 '청약자동화 솔루션' 특허 취득\",\n",
       " \"'창원국제용접 및 절단자동화전' 328억 수출 상담 달성\",\n",
       " '디티앤씨알오 “자동화 CRO 플랫폼으로 성장할 것”',\n",
       " '포스코 ICT 업무자동화 솔루션 A.WORKS 3.0 출시',\n",
       " \"포스코ICT 업무 자동화 솔루션 '에이웍스 3.0' 출시\"]"
      ]
     },
     "execution_count": 22,
     "metadata": {},
     "output_type": "execute_result"
    }
   ],
   "source": [
    "titles = browser.find_elements(By.CLASS_NAME, 'mCBkyc')\n",
    "\n",
    "title = [ ]\n",
    "for i in titles:\n",
    "    temp_title = i.text\n",
    "    temp_title = temp_title.replace(\",\", \"\")\n",
    "    title.append(temp_title)\n",
    "\n",
    "title\n",
    "    \n",
    "# lists = ['A', 'B', 'C', 'D']\n",
    "\n",
    "# for i in lists:\n",
    "#     print(i)"
   ]
  },
  {
   "cell_type": "code",
   "execution_count": 27,
   "id": "4a130a9c",
   "metadata": {},
   "outputs": [
    {
     "data": {
      "text/plain": [
       "[\"클라우드 운영관리 최적화 전략' 온라인 컨퍼런스에서 기조연설. AI 기반 분석과 선제적 장애 대응 자동화 없이는 관리 난항.\",\n",
       " '창원에서 개최된 34년 역사의 용접·절단 기술 전문 전시회인 창원국제용접 및 절단자동화전이 성황리에 폐막했다. 시는 25일 행사가 시작된 18일부터...',\n",
       " \"오픈베이스는 11월 2일(수) 14시부터 전자신문 웨비나 전문 방송 올쇼TV에서 'FortiSOAR를 활용한 자동화 위협 대응 사례'를 주제로 웨비나를 진행...\",\n",
       " '경제계 소식 알아보는 비즈& 시간입니다. 오늘은 어떤 소식들이 있는지 살펴보겠습니다. ▷ 롯데홈쇼핑 물류센터에 업계 최초 자동화 ...',\n",
       " '엑셀러레이터 전문기업 제이엔피글로벌(대표 박지환)은 도로 시공 작업 무인자동화 전문기업 충청(대표 최민진)에 시드 투자를 실시했다고 26일...',\n",
       " '(창원=국제뉴스) 김선환 기자 = 용접 절단 최대 수요지인 창원에서 개최된 34년 역사의 용접·절단 기술 전문 전시회인 창원국제용접 및 절단자동화...',\n",
       " 'IPO 간담회 개최. 디티앤씨알오 “자동화 CRO 플랫폼으로 성장할 것”. “최근 3년간 매출과 신규 수주가 늘었고 2020년에는 흑자전환에 성공했습니다.',\n",
       " '포스코 ICT는 RPA(업무자동화시스템) 솔루션인 A.WORKS(에이웍스) 3.0을 출시해 RPA 대중화를 통한 시장 확장과 국내 시장 1위 공략이라는 목표를...',\n",
       " '(서울=연합뉴스) 오규진 기자 = 포스코ICT는 사용자 편의·운영 기능을 강화한 업무 처리 자동화(RPA) 솔루션 에이웍스 3.0을 선보인다고 ...']"
      ]
     },
     "execution_count": 27,
     "metadata": {},
     "output_type": "execute_result"
    }
   ],
   "source": [
    "contents = browser.find_elements(By.CLASS_NAME, 'GI74Re')\n",
    "\n",
    "content = [ ]\n",
    "for i in contents:\n",
    "    temp_content = i.text\n",
    "    temp_content = temp_content.replace(\",\", \"\")\n",
    "    content.append(temp_content)\n",
    "    \n",
    "content"
   ]
  },
  {
   "cell_type": "code",
   "execution_count": 24,
   "id": "eddce74b",
   "metadata": {},
   "outputs": [
    {
     "name": "stdout",
     "output_type": "stream",
     "text": [
      "제목 : 시스코 '하이브리드 클라우드 관리 AI 분석 정확도와 자동화 필수'\n",
      "내용 : 클라우드 운영관리 최적화 전략' 온라인 컨퍼런스에서 기조연설. AI 기반 분석과 선제적 장애 대응 자동화 없이는 관리 난항.\n"
     ]
    }
   ],
   "source": [
    "links = browser.find_elements(By.CLASS_NAME, 'WlydOe')\n",
    "\n",
    "link = []\n",
    "for i in links:\n",
    "    link.append(i.get_attribute('href'))\n",
    "    \n",
    "print(\"제목 : \" + title[0])\n",
    "print(\"내용 : \" + content[0])"
   ]
  },
  {
   "cell_type": "code",
   "execution_count": 25,
   "id": "ecbfc679",
   "metadata": {},
   "outputs": [],
   "source": [
    "file = open(\"test.csv\", \"a\", encoding= \"UTF-8-sig\")\n",
    "file.write(\"{}, {}, {} \\n\".format(\"제목\", \"내용\", \"링크\"))\n",
    "file.write(\"{}, {}, {} \\n\".format(\"제목2\", \"내용2\", \"링크2\"))\n",
    "file.close()"
   ]
  },
  {
   "cell_type": "code",
   "execution_count": 28,
   "id": "d72b9f4e",
   "metadata": {},
   "outputs": [
    {
     "ename": "IndexError",
     "evalue": "list index out of range",
     "output_type": "error",
     "traceback": [
      "\u001b[1;31m---------------------------------------------------------------------------\u001b[0m",
      "\u001b[1;31mIndexError\u001b[0m                                Traceback (most recent call last)",
      "Input \u001b[1;32mIn [28]\u001b[0m, in \u001b[0;36m<cell line: 5>\u001b[1;34m()\u001b[0m\n\u001b[0;32m      3\u001b[0m file \u001b[38;5;241m=\u001b[39m \u001b[38;5;28mopen\u001b[39m(\u001b[38;5;124m\"\u001b[39m\u001b[38;5;124mgoogle_news.csv\u001b[39m\u001b[38;5;124m\"\u001b[39m, \u001b[38;5;124m\"\u001b[39m\u001b[38;5;124ma\u001b[39m\u001b[38;5;124m\"\u001b[39m, encoding\u001b[38;5;241m=\u001b[39m\u001b[38;5;124m\"\u001b[39m\u001b[38;5;124mUTF-8-sig\u001b[39m\u001b[38;5;124m\"\u001b[39m)\n\u001b[0;32m      5\u001b[0m \u001b[38;5;28;01mfor\u001b[39;00m i \u001b[38;5;129;01min\u001b[39;00m \u001b[38;5;28mrange\u001b[39m(\u001b[38;5;28mlen\u001b[39m(title)):\n\u001b[1;32m----> 6\u001b[0m     file\u001b[38;5;241m.\u001b[39mwrite(\u001b[38;5;124m\"\u001b[39m\u001b[38;5;132;01m{}\u001b[39;00m\u001b[38;5;124m, \u001b[39m\u001b[38;5;132;01m{}\u001b[39;00m\u001b[38;5;124m, \u001b[39m\u001b[38;5;132;01m{}\u001b[39;00m\u001b[38;5;124m \u001b[39m\u001b[38;5;130;01m\\n\u001b[39;00m\u001b[38;5;124m\"\u001b[39m\u001b[38;5;241m.\u001b[39mformat(title[i], \u001b[43mcontent\u001b[49m\u001b[43m[\u001b[49m\u001b[43mi\u001b[49m\u001b[43m]\u001b[49m, link[i]))\n\u001b[0;32m      8\u001b[0m file\u001b[38;5;241m.\u001b[39mclose()\n",
      "\u001b[1;31mIndexError\u001b[0m: list index out of range"
     ]
    }
   ],
   "source": [
    "# [title], [content], [link]\n",
    "\n",
    "file = open(\"google_news.csv\", \"a\", encoding=\"UTF-8-sig\")\n",
    "\n",
    "for i in range(len(title)):\n",
    "    file.write(\"{}, {}, {} \\n\".format(title[i], content[i], link[i]))\n",
    "\n",
    "file.close()"
   ]
  },
  {
   "cell_type": "code",
   "execution_count": null,
   "id": "096a8c03",
   "metadata": {},
   "outputs": [],
   "source": [
    "browser.get(\"https://search.naver.com/search.naver?ie=UTF-8&query=%EB%84%A4%EC%9D%B4%EB%B2%84%ED%99%98%EC%9C%A8&sm=chr_hty\")"
   ]
  },
  {
   "cell_type": "code",
   "execution_count": null,
   "id": "d366700b",
   "metadata": {},
   "outputs": [],
   "source": [
    "table = browser.find_element(By.CLASS_NAME, 'rate_table_bx')\n",
    "rows = table.find_elements(By.TAG_NAME, 'tr')\n",
    "\n",
    "for row in rows:\n",
    "    country_name = row.find_element(By.TAG_NAME, 'th').text\n",
    "    sellbuy = row.find_element(By.TAG_NAME, 'td').text\n",
    "    \n",
    "    print(country_name)\n",
    "    print(sellbuy)"
   ]
  },
  {
   "cell_type": "code",
   "execution_count": null,
   "id": "2acff9d9",
   "metadata": {},
   "outputs": [],
   "source": []
  },
  {
   "cell_type": "code",
   "execution_count": null,
   "id": "8e459b5e",
   "metadata": {},
   "outputs": [],
   "source": []
  }
 ],
 "metadata": {
  "kernelspec": {
   "display_name": "Python 3 (ipykernel)",
   "language": "python",
   "name": "python3"
  },
  "language_info": {
   "codemirror_mode": {
    "name": "ipython",
    "version": 3
   },
   "file_extension": ".py",
   "mimetype": "text/x-python",
   "name": "python",
   "nbconvert_exporter": "python",
   "pygments_lexer": "ipython3",
   "version": "3.9.12"
  }
 },
 "nbformat": 4,
 "nbformat_minor": 5
}
