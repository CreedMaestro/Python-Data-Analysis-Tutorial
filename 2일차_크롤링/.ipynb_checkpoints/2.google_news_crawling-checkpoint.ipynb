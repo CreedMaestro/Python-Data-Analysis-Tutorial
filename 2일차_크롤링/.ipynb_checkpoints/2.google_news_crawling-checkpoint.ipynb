{
 "cells": [
  {
   "cell_type": "markdown",
   "id": "cbb090b7",
   "metadata": {},
   "source": [
    "## 구글 뉴스 크롤링 (10페이지까지)"
   ]
  },
  {
   "cell_type": "code",
   "execution_count": 18,
   "id": "f27901d2",
   "metadata": {},
   "outputs": [],
   "source": [
    "from selenium import webdriver\n",
    "from selenium.webdriver.common.by import By"
   ]
  },
  {
   "cell_type": "code",
   "execution_count": 13,
   "id": "16f24cf1",
   "metadata": {},
   "outputs": [],
   "source": [
    "browser = webdriver.Chrome()"
   ]
  },
  {
   "cell_type": "code",
   "execution_count": 20,
   "id": "0c78d04a",
   "metadata": {},
   "outputs": [
    {
     "name": "stdout",
     "output_type": "stream",
     "text": [
      "크롤링원하는 단어 입력자동화\n",
      "크롤링 요청 페이지수 입력3\n",
      "[올쇼TV] \"FortiSOAR를 활용한 자동화 위협 대응 사례\" 11월 2일 웨비나 생방송\n",
      "창원시, 창원국제용접 및 절단자동화전 성료\n",
      "[비즈&] 롯데홈쇼핑, 물류센터에 업계 최초 자동화 시스템 도입 外\n",
      "제이엔피글로벌, 도로 시공 무인자동화 기업 충청에 시드투자\n",
      "한화생명, 청약자동화 솔루션 특허 취득 -\n",
      "한화생명, 보험 계약 자동화 솔루션 특허 취득\n",
      "[보험 현미경] 한화생명, '청약자동화 솔루션' 특허 취득\n",
      "'창원국제용접 및 절단자동화전' 328억 수출 상담 달성\n",
      "디티앤씨알오 “자동화 CRO 플랫폼으로 성장할 것”\n",
      "포스코 ICT, 업무자동화 솔루션 A.WORKS 3.0 출시\n",
      "포스코ICT, 업무 자동화 솔루션 '에이웍스 3.0' 출시\n",
      "포스코 ICT, 업무자동화 솔루션 A.WORKS 3.0 출시\n",
      "[올쇼TV] \"FortiSOAR를 활용한 자동화 위협 대응 사례\" 11월 2일 웨비나 생방송\n",
      "창원시, 창원국제용접 및 절단자동화전 성료\n",
      "[비즈&] 롯데홈쇼핑, 물류센터에 업계 최초 자동화 시스템 도입 外\n",
      "제이엔피글로벌, 도로 시공 무인자동화 기업 충청에 시드투자\n",
      "한화생명, 청약자동화 솔루션 특허 취득 -\n",
      "한화생명, 보험 계약 자동화 솔루션 특허 취득\n",
      "[보험 현미경] 한화생명, '청약자동화 솔루션' 특허 취득\n",
      "'창원국제용접 및 절단자동화전' 328억 수출 상담 달성\n",
      "디티앤씨알오 “자동화 CRO 플랫폼으로 성장할 것”\n",
      "포스코 ICT, 업무자동화 솔루션 A.WORKS 3.0 출시\n",
      "포스코ICT, 업무 자동화 솔루션 '에이웍스 3.0' 출시\n",
      "포스코 ICT, 업무자동화 솔루션 A.WORKS 3.0 출시\n",
      "[올쇼TV] \"FortiSOAR를 활용한 자동화 위협 대응 사례\" 11월 2일 웨비나 생방송\n",
      "창원시, 창원국제용접 및 절단자동화전 성료\n",
      "[비즈&] 롯데홈쇼핑, 물류센터에 업계 최초 자동화 시스템 도입 外\n",
      "제이엔피글로벌, 도로 시공 무인자동화 기업 충청에 시드투자\n",
      "한화생명, 청약자동화 솔루션 특허 취득 -\n",
      "한화생명, 보험 계약 자동화 솔루션 특허 취득\n",
      "[보험 현미경] 한화생명, '청약자동화 솔루션' 특허 취득\n",
      "'창원국제용접 및 절단자동화전' 328억 수출 상담 달성\n",
      "디티앤씨알오 “자동화 CRO 플랫폼으로 성장할 것”\n",
      "포스코 ICT, 업무자동화 솔루션 A.WORKS 3.0 출시\n",
      "포스코ICT, 업무 자동화 솔루션 '에이웍스 3.0' 출시\n",
      "포스코 ICT, 업무자동화 솔루션 A.WORKS 3.0 출시\n"
     ]
    }
   ],
   "source": [
    "import time\n",
    "\n",
    "search_word = input(\"크롤링원하는 단어 입력\")\n",
    "page = int(input(\"크롤링 요청 페이지수 입력\"))\n",
    "\n",
    "url = 'https://www.google.com/search?q=%EC%9E%90%EB%8F%99%ED%99%94&sxsrf=ALiCzsZGj1QvAoXmSDlNLJiXv7Iczw1wrw:1666761778167&source=lnms&tbm=nws&sa=X&ved=2ahUKEwi2ttm9k_36AhXIed4KHcvMC04Q_AUoAnoECAEQBA&biw=1536&bih=722&dpr=1.25'\n",
    "# url = url.format(search_word, page) final_url문과 중복\n",
    "\n",
    "for i in range(0, page*10, 10):\n",
    "    final_url = url.format(search_word, i)\n",
    "    \n",
    "    browser.get(final_url)\n",
    "    time.sleep(3) #브라우저 재로딩 시간. 무조건 3초 기다림. van 방지\n",
    "    browser.implicitly_wait(10) # 10초 웨이팅. 안되면 오류 피드백. 10초 전에 로딩이 되면 진행\n",
    "    \n",
    "    titles = browser.find_elements(By.CLASS_NAME, 'mCBkyc')\n",
    "\n",
    "    for title in titles:\n",
    "        print(title.text)    "
   ]
  },
  {
   "cell_type": "code",
   "execution_count": 9,
   "id": "24488cc3",
   "metadata": {},
   "outputs": [
    {
     "name": "stdout",
     "output_type": "stream",
     "text": [
      "크롤링 요청 페이지수 입력3\n",
      "google.com/page=0\n",
      "google.com/page=10\n",
      "google.com/page=20\n"
     ]
    }
   ],
   "source": [
    "# page = int(input(\"크롤링 요청 페이지수 입력\"))\n",
    "\n",
    "# for i in range(0, page*10, 10):\n",
    "#     url = \"google.com/page={}\".format(i)\n",
    "#     print(url)"
   ]
  },
  {
   "cell_type": "code",
   "execution_count": null,
   "id": "dbec6573",
   "metadata": {},
   "outputs": [],
   "source": [
    "# for i in range(0, 100, 10):\n",
    "#     print(i)"
   ]
  },
  {
   "cell_type": "code",
   "execution_count": null,
   "id": "a7b17acc",
   "metadata": {},
   "outputs": [],
   "source": []
  }
 ],
 "metadata": {
  "kernelspec": {
   "display_name": "Python 3 (ipykernel)",
   "language": "python",
   "name": "python3"
  },
  "language_info": {
   "codemirror_mode": {
    "name": "ipython",
    "version": 3
   },
   "file_extension": ".py",
   "mimetype": "text/x-python",
   "name": "python",
   "nbconvert_exporter": "python",
   "pygments_lexer": "ipython3",
   "version": "3.9.12"
  }
 },
 "nbformat": 4,
 "nbformat_minor": 5
}
