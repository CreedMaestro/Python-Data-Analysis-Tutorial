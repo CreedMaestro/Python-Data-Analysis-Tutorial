{
 "cells": [
  {
   "cell_type": "code",
   "execution_count": null,
   "id": "268f9075",
   "metadata": {},
   "outputs": [],
   "source": [
    "크롤링 기초\n",
    "네이버 날씨 정보 가져오기"
   ]
  },
  {
   "cell_type": "markdown",
   "id": "4e0dd6d4",
   "metadata": {},
   "source": [
    "pip install selenium"
   ]
  },
  {
   "cell_type": "code",
   "execution_count": 1,
   "id": "6dc2fbed",
   "metadata": {},
   "outputs": [],
   "source": [
    "from selenium import webdriver"
   ]
  },
  {
   "cell_type": "code",
   "execution_count": 2,
   "id": "a76fa933",
   "metadata": {},
   "outputs": [],
   "source": [
    "browser = webdriver.Chrome()"
   ]
  },
  {
   "cell_type": "code",
   "execution_count": 3,
   "id": "fb444f6c",
   "metadata": {},
   "outputs": [],
   "source": [
    "browser.get(\"http://naver.com\")"
   ]
  },
  {
   "cell_type": "code",
   "execution_count": 49,
   "id": "f78f1d37",
   "metadata": {},
   "outputs": [],
   "source": [
    "# browser.get(\"https://search.naver.com/search.naver?where=nexearch&sm=top_hty&fbm=1&ie=utf8&query=%EB%82%A0%EC%94%A8\")"
   ]
  },
  {
   "cell_type": "code",
   "execution_count": 4,
   "id": "6116e89e",
   "metadata": {},
   "outputs": [],
   "source": [
    "from selenium.webdriver.common.by import By"
   ]
  },
  {
   "cell_type": "code",
   "execution_count": 5,
   "id": "2eb0eb93",
   "metadata": {},
   "outputs": [],
   "source": [
    "browser.find_element(By.ID, 'query').click()"
   ]
  },
  {
   "cell_type": "code",
   "execution_count": 6,
   "id": "1851d3a6",
   "metadata": {},
   "outputs": [],
   "source": [
    "browser.find_element(By.ID, 'query').send_keys(\"날씨\")"
   ]
  },
  {
   "cell_type": "code",
   "execution_count": 7,
   "id": "eced7e51",
   "metadata": {},
   "outputs": [],
   "source": [
    "browser.find_element(By.XPATH, '//*[@id=\"search_btn\"]').click()"
   ]
  },
  {
   "cell_type": "code",
   "execution_count": 8,
   "id": "335d53ae",
   "metadata": {},
   "outputs": [
    {
     "data": {
      "text/plain": [
       "'8.6°'"
      ]
     },
     "execution_count": 8,
     "metadata": {},
     "output_type": "execute_result"
    }
   ],
   "source": [
    "data = browser.find_element(By.XPATH, '//*[@id=\"main_pack\"]/section[1]/div[1]/div[2]/div[1]/div[1]/div/div[2]/div/div[1]/div[1]/div[2]/strong').text\n",
    "data[6:]"
   ]
  },
  {
   "cell_type": "code",
   "execution_count": 9,
   "id": "525eb60f",
   "metadata": {},
   "outputs": [
    {
     "data": {
      "text/plain": [
       "'°'"
      ]
     },
     "execution_count": 9,
     "metadata": {},
     "output_type": "execute_result"
    }
   ],
   "source": [
    "browser.find_element(By.XPATH, '//*[@id=\"main_pack\"]/section[1]/div[1]/div[2]/div[1]/div[1]/div/div[2]/div/div[1]/div[1]/div[2]/strong').find_element(By.CLASS_NAME, 'celsius').text"
   ]
  },
  {
   "cell_type": "code",
   "execution_count": 10,
   "id": "ddf617b7",
   "metadata": {},
   "outputs": [],
   "source": [
    "browser.find_element(By.ID, 'nx_query').click()"
   ]
  },
  {
   "cell_type": "code",
   "execution_count": 11,
   "id": "2f6c7165",
   "metadata": {},
   "outputs": [],
   "source": [
    "browser.find_element(By.ID, 'nx_query').clear()"
   ]
  },
  {
   "cell_type": "code",
   "execution_count": 12,
   "id": "508016fd",
   "metadata": {},
   "outputs": [],
   "source": [
    "browser.find_element(By.ID, 'nx_query').send_keys(\"환율\")"
   ]
  },
  {
   "cell_type": "code",
   "execution_count": 13,
   "id": "526c3537",
   "metadata": {},
   "outputs": [],
   "source": [
    "browser.find_element(By.CLASS_NAME, 'bt_search').click()"
   ]
  },
  {
   "cell_type": "code",
   "execution_count": 14,
   "id": "e20c5471",
   "metadata": {},
   "outputs": [
    {
     "data": {
      "text/plain": [
       "'1,439.00'"
      ]
     },
     "execution_count": 14,
     "metadata": {},
     "output_type": "execute_result"
    }
   ],
   "source": [
    "browser.find_element(By.XPATH, '//*[@id=\"_cs_foreigninfo\"]/div/div[2]/div/div[1]/div[1]/div[1]/div[1]/h3/a/span[2]/strong').text"
   ]
  },
  {
   "cell_type": "markdown",
   "id": "fc6b0934",
   "metadata": {},
   "source": [
    "단건 뉴스 크롤링"
   ]
  },
  {
   "cell_type": "code",
   "execution_count": 15,
   "id": "624f3495",
   "metadata": {},
   "outputs": [],
   "source": [
    "browser.get('https://www.google.com/search?q=%EC%9E%90%EB%8F%99%ED%99%94&source=lnms&tbm=nws&sa=X&ved=2ahUKEwjJ0snc4Pr6AhW6ilYBHV5JD40Q_AUoAnoECAIQBA&biw=760&bih=318&dpr=1.25')"
   ]
  },
  {
   "cell_type": "code",
   "execution_count": 16,
   "id": "0215e486",
   "metadata": {},
   "outputs": [
    {
     "data": {
      "text/plain": [
       "'[비즈&] 롯데홈쇼핑, 물류센터에 업계 최초 자동화 시스템 도입 外'"
      ]
     },
     "execution_count": 16,
     "metadata": {},
     "output_type": "execute_result"
    }
   ],
   "source": [
    "browser.find_element(By.CLASS_NAME, 'mCBkyc').text"
   ]
  },
  {
   "cell_type": "code",
   "execution_count": 17,
   "id": "fdc41672",
   "metadata": {},
   "outputs": [
    {
     "data": {
      "text/plain": [
       "'[비즈&] 롯데홈쇼핑, 물류센터에 업계 최초 자동화 시스템 도입 外 경제계 소식 알아보는 비즈& 시간입니다. 오늘은 어떤 소식들이 있는지 살펴...'"
      ]
     },
     "execution_count": 17,
     "metadata": {},
     "output_type": "execute_result"
    }
   ],
   "source": [
    "browser.find_element(By.CLASS_NAME, 'GI74Re').text"
   ]
  },
  {
   "cell_type": "code",
   "execution_count": 18,
   "id": "1c3216c3",
   "metadata": {},
   "outputs": [
    {
     "data": {
      "text/plain": [
       "<selenium.webdriver.remote.webelement.WebElement (session=\"f3addfb3e106a539e736aef33057521a\", element=\"76069f0a-8385-4fb5-8720-715e68aad7c8\")>"
      ]
     },
     "execution_count": 18,
     "metadata": {},
     "output_type": "execute_result"
    }
   ],
   "source": [
    "browser.find_element(By.CLASS_NAME, 'mCBkyc')"
   ]
  },
  {
   "cell_type": "code",
   "execution_count": 19,
   "id": "806d413e",
   "metadata": {},
   "outputs": [
    {
     "data": {
      "text/plain": [
       "'https://www.yonhapnewstv.co.kr/news/MYH20221025012900038'"
      ]
     },
     "execution_count": 19,
     "metadata": {},
     "output_type": "execute_result"
    }
   ],
   "source": [
    "browser.find_element(By.CLASS_NAME, 'WlydOe').get_attribute('href')"
   ]
  },
  {
   "cell_type": "markdown",
   "id": "88dd54cd",
   "metadata": {},
   "source": [
    "1페이지 뉴스 크롤링"
   ]
  },
  {
   "cell_type": "code",
   "execution_count": 20,
   "id": "c3ad5865",
   "metadata": {},
   "outputs": [
    {
     "data": {
      "text/plain": [
       "['[비즈&] 롯데홈쇼핑 물류센터에 업계 최초 자동화 시스템 도입 外',\n",
       " '한화생명 청약자동화 솔루션 특허 취득 - 서울경제',\n",
       " '한화생명 청약자동화 솔루션 특허…GA설계사 업무간소화',\n",
       " '한화생명 ‘보험 신계약 자동화’ 특허 취득',\n",
       " '자동화로 네트워크 전체 스위치 업그레이드를 효율화하는 방법',\n",
       " \"'창원국제용접 및 절단자동화전' 328억 수출 상담 달성\",\n",
       " '코닉오토메이션 LG화학에 양극재 검사 솔루션 공급',\n",
       " '디티앤씨알오 “자동화 CRO 플랫폼으로 성장할 것”',\n",
       " '삼광의료재단 대전에 중부센터 개원…첨단 자동화 검사 시스템 구축',\n",
       " '한화생명 청약자동화 솔루션 특허 취득…\"보험 신계약 5분이면 끝\"',\n",
       " \"한화생명 보험신계약 로봇기술로 자동화...'청약자동화 솔루션' 특허\",\n",
       " '한화생명 보험 계약 자동화 솔루션 특허 취득']"
      ]
     },
     "execution_count": 20,
     "metadata": {},
     "output_type": "execute_result"
    }
   ],
   "source": [
    "titles = browser.find_elements(By.CLASS_NAME, 'mCBkyc')\n",
    "\n",
    "title = [ ]\n",
    "for i in titles:\n",
    "    temp_title = i.text\n",
    "    temp_title = temp_title.replace(\",\", \"\")\n",
    "    title.append(temp_title)\n",
    "\n",
    "title\n",
    "    \n",
    "# lists = ['A', 'B', 'C', 'D']\n",
    "\n",
    "# for i in lists:\n",
    "#     print(i)"
   ]
  },
  {
   "cell_type": "code",
   "execution_count": 21,
   "id": "4a130a9c",
   "metadata": {},
   "outputs": [
    {
     "data": {
      "text/plain": [
       "['[비즈&] 롯데홈쇼핑 물류센터에 업계 최초 자동화 시스템 도입 外 경제계 소식 알아보는 비즈& 시간입니다. 오늘은 어떤 소식들이 있는지 살펴...',\n",
       " '자동화는 반복적인 네트워킹 작업에서 큰 차이를 만들어낼 수 있다. 파이썬 스크립트와 오픈소스 툴을 사용해 엔터프라이즈 스위치 업그레이드를...',\n",
       " '(창원=국제뉴스) 김선환 기자 = 용접 절단 최대 수요지인 창원에서 개최된 34년 역사의 용접·절단 기술 전문 전시회인 창원국제용접 및 절단자동화...',\n",
       " '코닉오토메이션이 LG화학과 양극재 검사 자동화 시스템 공급 계약을 체결했다고 24일 공시했다. 에코프로그룹 포스코케미칼에 이어 LG화학에 검사...',\n",
       " 'IPO 간담회 개최. 디티앤씨알오 “자동화 CRO 플랫폼으로 성장할 것”. “최근 3년간 매출과 신규 수주가 늘었고 2020년에는 흑자전환에 성공했습니다.',\n",
       " '삼광의료재단(이사장 황태국)은 24일 최첨단 자동화 검사 시스템을 도입한 중부센터 개원 기념식을 진행했다. 삼광의료재단 중부센터는 대전에...',\n",
       " '한화생명이 보험 신계약 과정을 로봇 기술로 자동화하며 법인대리점(GA) 시장에서의 영업 경쟁력 강화에 나섰다.25일 한화생명은 보험설계 및 청약...',\n",
       " \"[엔지경제신문=나유라 기자] 한화생명은 보험설계 및 청약 업무 프로세스 자동화 기술인 '청약자동화 솔루션'에 대한 특허를 특허청으로부터 취득...\",\n",
       " '한화생명은 25일 보험설계와 계약 업무 프로세스를 자동화하는 기술인 \"청약자동화 솔루션\"이 특허청으로부터 \"BM(Business Method)특허&quo...']"
      ]
     },
     "execution_count": 21,
     "metadata": {},
     "output_type": "execute_result"
    }
   ],
   "source": [
    "contents = browser.find_elements(By.CLASS_NAME, 'GI74Re')\n",
    "\n",
    "content = []\n",
    "for i in contents:\n",
    "    temp_content = i.text\n",
    "    temp_content = temp_content.replace(\",\", \"\")\n",
    "    content.append(temp_content)\n",
    "    \n",
    "content"
   ]
  },
  {
   "cell_type": "code",
   "execution_count": 22,
   "id": "eddce74b",
   "metadata": {},
   "outputs": [
    {
     "name": "stdout",
     "output_type": "stream",
     "text": [
      "제목 : [비즈&] 롯데홈쇼핑 물류센터에 업계 최초 자동화 시스템 도입 外\n",
      "내용 : [비즈&] 롯데홈쇼핑 물류센터에 업계 최초 자동화 시스템 도입 外 경제계 소식 알아보는 비즈& 시간입니다. 오늘은 어떤 소식들이 있는지 살펴...\n"
     ]
    }
   ],
   "source": [
    "links = browser.find_elements(By.CLASS_NAME, 'WlydOe')\n",
    "\n",
    "link = []\n",
    "for i in links:\n",
    "    link.append(i.get_attribute('href'))\n",
    "    \n",
    "print(\"제목 : \" + title[0])\n",
    "print(\"내용 : \" + content[0])"
   ]
  },
  {
   "cell_type": "code",
   "execution_count": 23,
   "id": "ecbfc679",
   "metadata": {},
   "outputs": [],
   "source": [
    "file = open(\"test.csv\", \"a\", encoding= \"UTF-8-sig\")\n",
    "file.write(\"{}, {}, {} \\n\".format(\"제목\", \"내용\", \"링크\"))\n",
    "file.write(\"{}, {}, {} \\n\".format(\"제목2\", \"내용2\", \"링크2\"))\n",
    "file.close()"
   ]
  },
  {
   "cell_type": "code",
   "execution_count": 28,
   "id": "d72b9f4e",
   "metadata": {},
   "outputs": [
    {
     "ename": "IndexError",
     "evalue": "list index out of range",
     "output_type": "error",
     "traceback": [
      "\u001b[1;31m---------------------------------------------------------------------------\u001b[0m",
      "\u001b[1;31mIndexError\u001b[0m                                Traceback (most recent call last)",
      "Input \u001b[1;32mIn [28]\u001b[0m, in \u001b[0;36m<cell line: 5>\u001b[1;34m()\u001b[0m\n\u001b[0;32m      3\u001b[0m file \u001b[38;5;241m=\u001b[39m \u001b[38;5;28mopen\u001b[39m(\u001b[38;5;124m\"\u001b[39m\u001b[38;5;124mgoogle_news.csv\u001b[39m\u001b[38;5;124m\"\u001b[39m, \u001b[38;5;124m\"\u001b[39m\u001b[38;5;124ma\u001b[39m\u001b[38;5;124m\"\u001b[39m, encoding\u001b[38;5;241m=\u001b[39m\u001b[38;5;124m\"\u001b[39m\u001b[38;5;124mUTF-8-sig\u001b[39m\u001b[38;5;124m\"\u001b[39m)\n\u001b[0;32m      5\u001b[0m \u001b[38;5;28;01mfor\u001b[39;00m i \u001b[38;5;129;01min\u001b[39;00m \u001b[38;5;28mrange\u001b[39m(\u001b[38;5;28mlen\u001b[39m(title)):\n\u001b[1;32m----> 6\u001b[0m     file\u001b[38;5;241m.\u001b[39mwrite(\u001b[38;5;124m\"\u001b[39m\u001b[38;5;132;01m{}\u001b[39;00m\u001b[38;5;124m, \u001b[39m\u001b[38;5;132;01m{}\u001b[39;00m\u001b[38;5;124m, \u001b[39m\u001b[38;5;132;01m{}\u001b[39;00m\u001b[38;5;124m \u001b[39m\u001b[38;5;130;01m\\n\u001b[39;00m\u001b[38;5;124m\"\u001b[39m\u001b[38;5;241m.\u001b[39mformat(title[i], \u001b[43mcontent\u001b[49m\u001b[43m[\u001b[49m\u001b[43mi\u001b[49m\u001b[43m]\u001b[49m, link[i]))\n\u001b[0;32m      8\u001b[0m file\u001b[38;5;241m.\u001b[39mclose()\n",
      "\u001b[1;31mIndexError\u001b[0m: list index out of range"
     ]
    }
   ],
   "source": [
    "# [title], [content], [link]\n",
    "\n",
    "file = open(\"google_news.csv\", \"a\", encoding=\"UTF-8-sig\")\n",
    "\n",
    "for i in range(len(title)):\n",
    "    file.write(\"{}, {}, {} \\n\".format(title[i], content[i], link[i]))\n",
    "\n",
    "file.close()"
   ]
  },
  {
   "cell_type": "code",
   "execution_count": 29,
   "id": "096a8c03",
   "metadata": {},
   "outputs": [],
   "source": [
    "browser.get(\"https://search.naver.com/search.naver?ie=UTF-8&query=%EB%84%A4%EC%9D%B4%EB%B2%84%ED%99%98%EC%9C%A8&sm=chr_hty\")"
   ]
  },
  {
   "cell_type": "code",
   "execution_count": 31,
   "id": "d366700b",
   "metadata": {},
   "outputs": [
    {
     "ename": "NoSuchElementException",
     "evalue": "Message: no such element: Unable to locate element: {\"method\":\"tag name\",\"selector\":\"td\"}\n  (Session info: chrome=106.0.5249.119)\nStacktrace:\nBacktrace:\n\tOrdinal0 [0x00EE1ED3+2236115]\n\tOrdinal0 [0x00E792F1+1807089]\n\tOrdinal0 [0x00D866FD+812797]\n\tOrdinal0 [0x00DB55DF+1005023]\n\tOrdinal0 [0x00DB57CB+1005515]\n\tOrdinal0 [0x00DABE01+966145]\n\tOrdinal0 [0x00DD1AD4+1120980]\n\tOrdinal0 [0x00DABD84+966020]\n\tOrdinal0 [0x00DD1CA4+1121444]\n\tOrdinal0 [0x00DE59E2+1202658]\n\tOrdinal0 [0x00DD18A6+1120422]\n\tOrdinal0 [0x00DAA73D+960317]\n\tOrdinal0 [0x00DAB71F+964383]\n\tGetHandleVerifier [0x0118E7E2+2743074]\n\tGetHandleVerifier [0x011808D4+2685972]\n\tGetHandleVerifier [0x00F72BAA+532202]\n\tGetHandleVerifier [0x00F71990+527568]\n\tOrdinal0 [0x00E8080C+1837068]\n\tOrdinal0 [0x00E84CD8+1854680]\n\tOrdinal0 [0x00E84DC5+1854917]\n\tOrdinal0 [0x00E8ED64+1895780]\n\tBaseThreadInitThunk [0x76FDFA29+25]\n\tRtlGetAppContainerNamedObjectPath [0x77E37BBE+286]\n\tRtlGetAppContainerNamedObjectPath [0x77E37B8E+238]\n",
     "output_type": "error",
     "traceback": [
      "\u001b[1;31m---------------------------------------------------------------------------\u001b[0m",
      "\u001b[1;31mNoSuchElementException\u001b[0m                    Traceback (most recent call last)",
      "Input \u001b[1;32mIn [31]\u001b[0m, in \u001b[0;36m<cell line: 4>\u001b[1;34m()\u001b[0m\n\u001b[0;32m      4\u001b[0m \u001b[38;5;28;01mfor\u001b[39;00m row \u001b[38;5;129;01min\u001b[39;00m rows:\n\u001b[0;32m      5\u001b[0m     country_name \u001b[38;5;241m=\u001b[39m row\u001b[38;5;241m.\u001b[39mfind_element(By\u001b[38;5;241m.\u001b[39mTAG_NAME, \u001b[38;5;124m'\u001b[39m\u001b[38;5;124mth\u001b[39m\u001b[38;5;124m'\u001b[39m)\u001b[38;5;241m.\u001b[39mtext\n\u001b[1;32m----> 6\u001b[0m     sellbuy \u001b[38;5;241m=\u001b[39m \u001b[43mrow\u001b[49m\u001b[38;5;241;43m.\u001b[39;49m\u001b[43mfind_element\u001b[49m\u001b[43m(\u001b[49m\u001b[43mBy\u001b[49m\u001b[38;5;241;43m.\u001b[39;49m\u001b[43mTAG_NAME\u001b[49m\u001b[43m,\u001b[49m\u001b[43m \u001b[49m\u001b[38;5;124;43m'\u001b[39;49m\u001b[38;5;124;43mtd\u001b[39;49m\u001b[38;5;124;43m'\u001b[39;49m\u001b[43m)\u001b[49m\u001b[38;5;241m.\u001b[39mtext\n\u001b[0;32m      8\u001b[0m     \u001b[38;5;28mprint\u001b[39m(country_name)\n\u001b[0;32m      9\u001b[0m     \u001b[38;5;28mprint\u001b[39m(sellbuy)\n",
      "File \u001b[1;32m~\\anaconda3\\lib\\site-packages\\selenium\\webdriver\\remote\\webelement.py:419\u001b[0m, in \u001b[0;36mWebElement.find_element\u001b[1;34m(self, by, value)\u001b[0m\n\u001b[0;32m    416\u001b[0m     by \u001b[38;5;241m=\u001b[39m By\u001b[38;5;241m.\u001b[39mCSS_SELECTOR\n\u001b[0;32m    417\u001b[0m     value \u001b[38;5;241m=\u001b[39m \u001b[38;5;124m'\u001b[39m\u001b[38;5;124m[name=\u001b[39m\u001b[38;5;124m\"\u001b[39m\u001b[38;5;132;01m%s\u001b[39;00m\u001b[38;5;124m\"\u001b[39m\u001b[38;5;124m]\u001b[39m\u001b[38;5;124m'\u001b[39m \u001b[38;5;241m%\u001b[39m value\n\u001b[1;32m--> 419\u001b[0m \u001b[38;5;28;01mreturn\u001b[39;00m \u001b[38;5;28;43mself\u001b[39;49m\u001b[38;5;241;43m.\u001b[39;49m\u001b[43m_execute\u001b[49m\u001b[43m(\u001b[49m\u001b[43mCommand\u001b[49m\u001b[38;5;241;43m.\u001b[39;49m\u001b[43mFIND_CHILD_ELEMENT\u001b[49m\u001b[43m,\u001b[49m\n\u001b[0;32m    420\u001b[0m \u001b[43m                     \u001b[49m\u001b[43m{\u001b[49m\u001b[38;5;124;43m\"\u001b[39;49m\u001b[38;5;124;43musing\u001b[39;49m\u001b[38;5;124;43m\"\u001b[39;49m\u001b[43m:\u001b[49m\u001b[43m \u001b[49m\u001b[43mby\u001b[49m\u001b[43m,\u001b[49m\u001b[43m \u001b[49m\u001b[38;5;124;43m\"\u001b[39;49m\u001b[38;5;124;43mvalue\u001b[39;49m\u001b[38;5;124;43m\"\u001b[39;49m\u001b[43m:\u001b[49m\u001b[43m \u001b[49m\u001b[43mvalue\u001b[49m\u001b[43m}\u001b[49m\u001b[43m)\u001b[49m[\u001b[38;5;124m'\u001b[39m\u001b[38;5;124mvalue\u001b[39m\u001b[38;5;124m'\u001b[39m]\n",
      "File \u001b[1;32m~\\anaconda3\\lib\\site-packages\\selenium\\webdriver\\remote\\webelement.py:396\u001b[0m, in \u001b[0;36mWebElement._execute\u001b[1;34m(self, command, params)\u001b[0m\n\u001b[0;32m    394\u001b[0m     params \u001b[38;5;241m=\u001b[39m {}\n\u001b[0;32m    395\u001b[0m params[\u001b[38;5;124m'\u001b[39m\u001b[38;5;124mid\u001b[39m\u001b[38;5;124m'\u001b[39m] \u001b[38;5;241m=\u001b[39m \u001b[38;5;28mself\u001b[39m\u001b[38;5;241m.\u001b[39m_id\n\u001b[1;32m--> 396\u001b[0m \u001b[38;5;28;01mreturn\u001b[39;00m \u001b[38;5;28;43mself\u001b[39;49m\u001b[38;5;241;43m.\u001b[39;49m\u001b[43m_parent\u001b[49m\u001b[38;5;241;43m.\u001b[39;49m\u001b[43mexecute\u001b[49m\u001b[43m(\u001b[49m\u001b[43mcommand\u001b[49m\u001b[43m,\u001b[49m\u001b[43m \u001b[49m\u001b[43mparams\u001b[49m\u001b[43m)\u001b[49m\n",
      "File \u001b[1;32m~\\anaconda3\\lib\\site-packages\\selenium\\webdriver\\remote\\webdriver.py:429\u001b[0m, in \u001b[0;36mWebDriver.execute\u001b[1;34m(self, driver_command, params)\u001b[0m\n\u001b[0;32m    427\u001b[0m response \u001b[38;5;241m=\u001b[39m \u001b[38;5;28mself\u001b[39m\u001b[38;5;241m.\u001b[39mcommand_executor\u001b[38;5;241m.\u001b[39mexecute(driver_command, params)\n\u001b[0;32m    428\u001b[0m \u001b[38;5;28;01mif\u001b[39;00m response:\n\u001b[1;32m--> 429\u001b[0m     \u001b[38;5;28;43mself\u001b[39;49m\u001b[38;5;241;43m.\u001b[39;49m\u001b[43merror_handler\u001b[49m\u001b[38;5;241;43m.\u001b[39;49m\u001b[43mcheck_response\u001b[49m\u001b[43m(\u001b[49m\u001b[43mresponse\u001b[49m\u001b[43m)\u001b[49m\n\u001b[0;32m    430\u001b[0m     response[\u001b[38;5;124m'\u001b[39m\u001b[38;5;124mvalue\u001b[39m\u001b[38;5;124m'\u001b[39m] \u001b[38;5;241m=\u001b[39m \u001b[38;5;28mself\u001b[39m\u001b[38;5;241m.\u001b[39m_unwrap_value(\n\u001b[0;32m    431\u001b[0m         response\u001b[38;5;241m.\u001b[39mget(\u001b[38;5;124m'\u001b[39m\u001b[38;5;124mvalue\u001b[39m\u001b[38;5;124m'\u001b[39m, \u001b[38;5;28;01mNone\u001b[39;00m))\n\u001b[0;32m    432\u001b[0m     \u001b[38;5;28;01mreturn\u001b[39;00m response\n",
      "File \u001b[1;32m~\\anaconda3\\lib\\site-packages\\selenium\\webdriver\\remote\\errorhandler.py:243\u001b[0m, in \u001b[0;36mErrorHandler.check_response\u001b[1;34m(self, response)\u001b[0m\n\u001b[0;32m    241\u001b[0m         alert_text \u001b[38;5;241m=\u001b[39m value[\u001b[38;5;124m'\u001b[39m\u001b[38;5;124malert\u001b[39m\u001b[38;5;124m'\u001b[39m]\u001b[38;5;241m.\u001b[39mget(\u001b[38;5;124m'\u001b[39m\u001b[38;5;124mtext\u001b[39m\u001b[38;5;124m'\u001b[39m)\n\u001b[0;32m    242\u001b[0m     \u001b[38;5;28;01mraise\u001b[39;00m exception_class(message, screen, stacktrace, alert_text)  \u001b[38;5;66;03m# type: ignore[call-arg]  # mypy is not smart enough here\u001b[39;00m\n\u001b[1;32m--> 243\u001b[0m \u001b[38;5;28;01mraise\u001b[39;00m exception_class(message, screen, stacktrace)\n",
      "\u001b[1;31mNoSuchElementException\u001b[0m: Message: no such element: Unable to locate element: {\"method\":\"tag name\",\"selector\":\"td\"}\n  (Session info: chrome=106.0.5249.119)\nStacktrace:\nBacktrace:\n\tOrdinal0 [0x00EE1ED3+2236115]\n\tOrdinal0 [0x00E792F1+1807089]\n\tOrdinal0 [0x00D866FD+812797]\n\tOrdinal0 [0x00DB55DF+1005023]\n\tOrdinal0 [0x00DB57CB+1005515]\n\tOrdinal0 [0x00DABE01+966145]\n\tOrdinal0 [0x00DD1AD4+1120980]\n\tOrdinal0 [0x00DABD84+966020]\n\tOrdinal0 [0x00DD1CA4+1121444]\n\tOrdinal0 [0x00DE59E2+1202658]\n\tOrdinal0 [0x00DD18A6+1120422]\n\tOrdinal0 [0x00DAA73D+960317]\n\tOrdinal0 [0x00DAB71F+964383]\n\tGetHandleVerifier [0x0118E7E2+2743074]\n\tGetHandleVerifier [0x011808D4+2685972]\n\tGetHandleVerifier [0x00F72BAA+532202]\n\tGetHandleVerifier [0x00F71990+527568]\n\tOrdinal0 [0x00E8080C+1837068]\n\tOrdinal0 [0x00E84CD8+1854680]\n\tOrdinal0 [0x00E84DC5+1854917]\n\tOrdinal0 [0x00E8ED64+1895780]\n\tBaseThreadInitThunk [0x76FDFA29+25]\n\tRtlGetAppContainerNamedObjectPath [0x77E37BBE+286]\n\tRtlGetAppContainerNamedObjectPath [0x77E37B8E+238]\n"
     ]
    }
   ],
   "source": [
    "table = browser.find_element(By.CLASS_NAME, 'rate_table_bx')\n",
    "rows = table.find_elements(By.TAG_NAME, 'tr')\n",
    "\n",
    "for row in rows:\n",
    "    country_name = row.find_element(By.TAG_NAME, 'th').text\n",
    "    sellbuy = row.find_element(By.TAG_NAME, 'td').text\n",
    "    \n",
    "    print(country_name)\n",
    "    print(sellbuy)"
   ]
  },
  {
   "cell_type": "code",
   "execution_count": null,
   "id": "2acff9d9",
   "metadata": {},
   "outputs": [],
   "source": []
  }
 ],
 "metadata": {
  "kernelspec": {
   "display_name": "Python 3 (ipykernel)",
   "language": "python",
   "name": "python3"
  },
  "language_info": {
   "codemirror_mode": {
    "name": "ipython",
    "version": 3
   },
   "file_extension": ".py",
   "mimetype": "text/x-python",
   "name": "python",
   "nbconvert_exporter": "python",
   "pygments_lexer": "ipython3",
   "version": "3.9.12"
  }
 },
 "nbformat": 4,
 "nbformat_minor": 5
}
